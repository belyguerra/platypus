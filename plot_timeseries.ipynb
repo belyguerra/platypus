{
 "cells": [
  {
   "cell_type": "code",
   "execution_count": null,
   "metadata": {
    "collapsed": false
   },
   "outputs": [],
   "source": [
    "from __future__  import print_function,division\n",
    "import pandas as pd\n",
    "\n",
    "import seaborn as sns\n",
    "sns.set(style=\"whitegrid\", color_codes=True)\n",
    "sns.set(style=\"ticks\")\n",
    "\n",
    "import matplotlib.pyplot as plt\n",
    "%matplotlib inline\n",
    "\n",
    "import numpy as np"
   ]
  },
  {
   "cell_type": "markdown",
   "metadata": {},
   "source": [
    "#### Load your data"
   ]
  },
  {
   "cell_type": "code",
   "execution_count": null,
   "metadata": {
    "collapsed": false
   },
   "outputs": [],
   "source": [
    "# load your data files\n",
    "DMN_0par = pd.read_csv(\"rest_0mot_DMN.txt\", header=None, names=['0par'])\n",
    "DMN_6par = pd.read_csv(\"rest_6mot_DMN.txt\", header=None, names=['6par'])\n",
    "DMN_24par = pd.read_csv(\"rest_24mot_DMN.txt\", header=None, names=['24par'])"
   ]
  },
  {
   "cell_type": "code",
   "execution_count": null,
   "metadata": {
    "collapsed": false
   },
   "outputs": [],
   "source": [
    "time_series_data = pd.concat([DMN_0par, DMN_6par, DMN_24par], axis=1)"
   ]
  },
  {
   "cell_type": "code",
   "execution_count": null,
   "metadata": {
    "collapsed": false
   },
   "outputs": [],
   "source": [
    "# check that you loaded the correct data\n",
    "print(time_series_data().head())"
   ]
  },
  {
   "cell_type": "markdown",
   "metadata": {},
   "source": [
    "#### Use the TR to set the length of your time series"
   ]
  },
  {
   "cell_type": "code",
   "execution_count": null,
   "metadata": {
    "collapsed": false
   },
   "outputs": [],
   "source": [
    "# explain how to calculate the time based on TR\n",
    "TR = 2.3\n",
    "TR_time = np.linspace(0, 460, 200)\n",
    "print(TR_time)"
   ]
  },
  {
   "cell_type": "markdown",
   "metadata": {},
   "source": [
    "#### See how the time series changes"
   ]
  },
  {
   "cell_type": "code",
   "execution_count": null,
   "metadata": {
    "collapsed": false
   },
   "outputs": [],
   "source": [
    "def plot_time_series(data, timecourse, y_axis, title, TR_value):\n",
    "    ax = sns.tsplot(data, time=time_course, value=y_axis, condition=title)\n",
    "    ax.set_xlabel(\"Time (seconds); TR = {}s\".format(TR_value))\n",
    "    plt.show()"
   ]
  },
  {
   "cell_type": "code",
   "execution_count": null,
   "metadata": {
    "collapsed": true
   },
   "outputs": [],
   "source": [
    "# 0 motion parameters"
   ]
  },
  {
   "cell_type": "code",
   "execution_count": null,
   "metadata": {
    "collapsed": false
   },
   "outputs": [],
   "source": [
    "plot_time_series(time_series_data['0par'],\n",
    "                 y_axis=\"Normalized Response\",\n",
    "                 title=\"DMN Time Series\",\n",
    "                 time_course=TR_time, TR_value=TR)"
   ]
  },
  {
   "cell_type": "code",
   "execution_count": null,
   "metadata": {
    "collapsed": true
   },
   "outputs": [],
   "source": [
    "# 6 parameters"
   ]
  },
  {
   "cell_type": "code",
   "execution_count": null,
   "metadata": {
    "collapsed": false
   },
   "outputs": [],
   "source": [
    "plot_time_series(time_series_data['6par'],\n",
    "                 y_axis=\"Normalized Response\",\n",
    "                 title=\"DMN Time Series\",\n",
    "                 time_course=TR_time, TR_value=TR)"
   ]
  },
  {
   "cell_type": "code",
   "execution_count": null,
   "metadata": {
    "collapsed": true
   },
   "outputs": [],
   "source": [
    "# 24 parameters"
   ]
  },
  {
   "cell_type": "code",
   "execution_count": null,
   "metadata": {
    "collapsed": false
   },
   "outputs": [],
   "source": [
    "plot_time_series(time_series_data['24par'],\n",
    "                 y_axis=\"Normalized Response\",\n",
    "                 title=\"DMN Time Series\",\n",
    "                 time_course=TR_time, TR_value=TR)"
   ]
  }
 ],
 "metadata": {
  "anaconda-cloud": {},
  "kernelspec": {
   "display_name": "Python 2",
   "language": "python",
   "name": "python2"
  },
  "language_info": {
   "codemirror_mode": {
    "name": "ipython",
    "version": 2
   },
   "file_extension": ".py",
   "mimetype": "text/x-python",
   "name": "python",
   "nbconvert_exporter": "python",
   "pygments_lexer": "ipython2",
   "version": "2.7.12"
  }
 },
 "nbformat": 4,
 "nbformat_minor": 0
}
