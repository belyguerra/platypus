{
 "cells": [
  {
   "cell_type": "code",
   "execution_count": 4,
   "metadata": {
    "collapsed": true
   },
   "outputs": [],
   "source": [
    "import os\n",
    "from nbpapaya import Brain"
   ]
  },
  {
   "cell_type": "markdown",
   "metadata": {},
   "source": [
    "### Data without motion correction"
   ]
  },
  {
   "cell_type": "code",
   "execution_count": 19,
   "metadata": {
    "collapsed": false
   },
   "outputs": [
    {
     "name": "stdout",
     "output_type": "stream",
     "text": [
      "doing checks /home/caroline/.jupyter/custom/\n"
     ]
    },
    {
     "data": {
      "text/html": [
       "<iframe src=\"http://localhost:8888/files/papaya_data/tmpHkhnSn.html\"\n",
       "                   width=\"600\"\n",
       "                   height=\"450\"\n",
       "                   scrolling=\"no\"\n",
       "                   frameBorder=\"0\">\n",
       "                   </iframe>"
      ],
      "text/plain": [
       "<nbpapaya.base.Brain at 0x7f9890613210>"
      ]
     },
     "execution_count": 19,
     "metadata": {},
     "output_type": "execute_result"
    }
   ],
   "source": [
    "Brain([os.path.abspath(\"data/rest.nii.gz\"),os.path.abspath(\"data/rest_DMN.nii.gz\")],port=8888)"
   ]
  },
  {
   "cell_type": "markdown",
   "metadata": {},
   "source": [
    "#  6 parameter model motion correction"
   ]
  },
  {
   "cell_type": "code",
   "execution_count": 22,
   "metadata": {
    "collapsed": false
   },
   "outputs": [
    {
     "name": "stdout",
     "output_type": "stream",
     "text": [
      "doing checks /home/caroline/.jupyter/custom/\n"
     ]
    },
    {
     "data": {
      "text/html": [
       "<iframe src=\"http://localhost:8888/files/papaya_data/tmpYA0TQ0.html\"\n",
       "                   width=\"600\"\n",
       "                   height=\"450\"\n",
       "                   scrolling=\"no\"\n",
       "                   frameBorder=\"0\">\n",
       "                   </iframe>"
      ],
      "text/plain": [
       "<nbpapaya.base.Brain at 0x7f9890613310>"
      ]
     },
     "execution_count": 22,
     "metadata": {},
     "output_type": "execute_result"
    }
   ],
   "source": [
    "Brain([os.path.abspath(\"data/rest_6mot.nii.gz\"),os.path.abspath(\"data/rest_6mot_DMN.nii.gz\")],port=8888)"
   ]
  },
  {
   "cell_type": "markdown",
   "metadata": {},
   "source": [
    "# Friston 24 Parameter Model Motion Correction"
   ]
  },
  {
   "cell_type": "code",
   "execution_count": 18,
   "metadata": {
    "collapsed": false
   },
   "outputs": [
    {
     "name": "stdout",
     "output_type": "stream",
     "text": [
      "doing checks /home/caroline/.jupyter/custom/\n"
     ]
    },
    {
     "data": {
      "text/html": [
       "<iframe src=\"http://localhost:8888/files/papaya_data/tmpHcAze2.html\"\n",
       "                   width=\"600\"\n",
       "                   height=\"450\"\n",
       "                   scrolling=\"no\"\n",
       "                   frameBorder=\"0\">\n",
       "                   </iframe>"
      ],
      "text/plain": [
       "<nbpapaya.base.Brain at 0x7f98906131d0>"
      ]
     },
     "execution_count": 18,
     "metadata": {},
     "output_type": "execute_result"
    }
   ],
   "source": [
    "Brain([os.path.abspath(\"data/rest_24mot.nii.gz\"),os.path.abspath(\"data/rest_24mot_DMN.nii.gz\")],port=8888)"
   ]
  },
  {
   "cell_type": "code",
   "execution_count": null,
   "metadata": {
    "collapsed": true
   },
   "outputs": [],
   "source": []
  }
 ],
 "metadata": {
  "kernelspec": {
   "display_name": "Python 2",
   "language": "python",
   "name": "python2"
  },
  "language_info": {
   "codemirror_mode": {
    "name": "ipython",
    "version": 2
   },
   "file_extension": ".py",
   "mimetype": "text/x-python",
   "name": "python",
   "nbconvert_exporter": "python",
   "pygments_lexer": "ipython2",
   "version": "2.7.6"
  }
 },
 "nbformat": 4,
 "nbformat_minor": 0
}
